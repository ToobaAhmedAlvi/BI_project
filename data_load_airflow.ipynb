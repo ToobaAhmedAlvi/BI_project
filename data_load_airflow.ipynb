{
 "cells": [
  {
   "cell_type": "code",
   "execution_count": 2,
   "id": "344fe349",
   "metadata": {},
   "outputs": [
    {
     "name": "stdout",
     "output_type": "stream",
     "text": [
      "✅ Table 'Album' loaded successfully as a DataFrame.\n",
      "✅ Table 'Artist' loaded successfully as a DataFrame.\n",
      "✅ Table 'Customer' loaded successfully as a DataFrame.\n",
      "✅ Table 'Employee' loaded successfully as a DataFrame.\n",
      "✅ Table 'Genre' loaded successfully as a DataFrame.\n",
      "✅ Table 'Invoice' loaded successfully as a DataFrame.\n",
      "✅ Table 'InvoiceLine' loaded successfully as a DataFrame.\n",
      "✅ Table 'MediaType' loaded successfully as a DataFrame.\n",
      "✅ Table 'Playlist' loaded successfully as a DataFrame.\n",
      "✅ Table 'PlaylistTrack' loaded successfully as a DataFrame.\n",
      "✅ Table 'Track' loaded successfully as a DataFrame.\n",
      "✅ Table 'sysdiagrams' loaded successfully as a DataFrame.\n",
      "\n",
      "🎉 All tables have been successfully loaded as separate DataFrames!\n"
     ]
    }
   ],
   "source": [
    "import pandas as pd\n",
    "from sqlalchemy import create_engine\n",
    "\n",
    "# Database connection parameters\n",
    "server_name = 'DESKTOP-NU99729\\\\SQLEXPRESS' \n",
    "database_name = 'chinook_db'\n",
    "\n",
    "# Create the connection string\n",
    "engine = create_engine(\n",
    "    f'mssql+pyodbc://{server_name}/{database_name}?driver=ODBC+Driver+17+for+SQL+Server'\n",
    ")\n",
    "\n",
    "def load_tables_into_dataframes(engine):\n",
    "    \"\"\"Fetches all table names and loads them into separate DataFrames dynamically.\"\"\"\n",
    "    \n",
    "    # Fetch all table names from the database\n",
    "    query = \"SELECT TABLE_NAME FROM INFORMATION_SCHEMA.TABLES WHERE TABLE_TYPE = 'BASE TABLE'\"\n",
    "    table_names = pd.read_sql(query, engine)['TABLE_NAME'].tolist()\n",
    "\n",
    "    # Dynamically create DataFrames with table names as variables\n",
    "    for table_name in table_names:\n",
    "        globals()[table_name] = pd.read_sql(f\"SELECT * FROM {table_name}\", engine)\n",
    "        print(f\"✅ Table '{table_name}' loaded successfully as a DataFrame.\")\n",
    "\n",
    "    print(\"\\n🎉 All tables have been successfully loaded as separate DataFrames!\")\n",
    "\n",
    "# Call the function to execute\n",
    "load_tables_into_dataframes(engine)\n"
   ]
  }
 ],
 "metadata": {
  "kernelspec": {
   "display_name": "Python 3",
   "language": "python",
   "name": "python3"
  },
  "language_info": {
   "codemirror_mode": {
    "name": "ipython",
    "version": 3
   },
   "file_extension": ".py",
   "mimetype": "text/x-python",
   "name": "python",
   "nbconvert_exporter": "python",
   "pygments_lexer": "ipython3",
   "version": "3.12.8"
  }
 },
 "nbformat": 4,
 "nbformat_minor": 5
}
