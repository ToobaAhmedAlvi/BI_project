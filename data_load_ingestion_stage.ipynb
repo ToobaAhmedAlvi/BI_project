{
 "cells": [
  {
   "cell_type": "markdown",
   "id": "bc385ee4",
   "metadata": {},
   "source": [
    "Step 1: Connect and check SQL Server tables & data types"
   ]
  },
  {
   "cell_type": "code",
   "execution_count": 12,
   "id": "d04940db",
   "metadata": {},
   "outputs": [
    {
     "name": "stderr",
     "output_type": "stream",
     "text": [
      "C:\\Users\\hp\\AppData\\Local\\Temp\\ipykernel_10364\\2936178059.py:18: UserWarning: pandas only supports SQLAlchemy connectable (engine/connection) or database string URI or sqlite3 DBAPI2 connection. Other DBAPI2 objects are not tested. Please consider using SQLAlchemy.\n",
      "  df = pd.read_sql(f\"SELECT TOP 5 * FROM {table}\", conn)  # Only first 5 rows\n"
     ]
    },
    {
     "name": "stdout",
     "output_type": "stream",
     "text": [
      "Table Album sample data types:\n",
      "AlbumId     object\n",
      "Title       object\n",
      "ArtistId    object\n",
      "dtype: object\n",
      "\n",
      "  AlbumId                                  Title ArtistId\n",
      "0     1.0  For Those About To Rock We Salute You      1.0\n",
      "1     2.0                      Balls to the Wall      2.0\n",
      "2     3.0                      Restless and Wild      2.0\n",
      "3     4.0                      Let There Be Rock      1.0\n",
      "4     5.0                               Big Ones      3.0 \n",
      "\n",
      "Table Artist sample data types:\n",
      "ArtistId    object\n",
      "Name        object\n",
      "dtype: object\n",
      "\n",
      "  ArtistId               Name\n",
      "0        1              AC/DC\n",
      "1        2               None\n",
      "2        3          Aerosmith\n",
      "3        4  Alanis Morissette\n",
      "4        5    Alice In Chains \n",
      "\n",
      "Table Customer sample data types:\n",
      "CustomerId       int64\n",
      "FirstName       object\n",
      "LastName        object\n",
      "Company         object\n",
      "Address         object\n",
      "City            object\n",
      "State           object\n",
      "Country         object\n",
      "PostalCode      object\n",
      "Phone           object\n",
      "Fax             object\n",
      "Email           object\n",
      "SupportRepId     int64\n",
      "dtype: object\n",
      "\n",
      "   CustomerId  FirstName     LastName  \\\n",
      "0           1       Luís    Gonçalves   \n",
      "1           2     Leonie       Köhler   \n",
      "2           3   François     Tremblay   \n",
      "3           4      Bjørn       Hansen   \n",
      "4           5  František  Wichterlová   \n",
      "\n",
      "                                            Company  \\\n",
      "0  Embraer - Empresa Brasileira de Aeronáutica S.A.   \n",
      "1                                              None   \n",
      "2                                              None   \n",
      "3                                              None   \n",
      "4                                  JetBrains s.r.o.   \n",
      "\n",
      "                           Address                 City State         Country  \\\n",
      "0  Av. Brigadeiro Faria Lima, 2170  São José dos Campos    SP          Brazil   \n",
      "1          Theodor-Heuss-Straße 34            Stuttgart  None         Germany   \n",
      "2                1498 rue Bélanger             Montréal    QC          Canada   \n",
      "3                 Ullevålsveien 14                 Oslo  None          Norway   \n",
      "4                    Klanova 9/506               Prague  None  Czech Republic   \n",
      "\n",
      "  PostalCode               Phone                 Fax  \\\n",
      "0  12227-000  +55 (12) 3923-5555  +55 (12) 3923-5566   \n",
      "1      70174    +49 0711 2842222                None   \n",
      "2    H2G 1A7   +1 (514) 721-4711                None   \n",
      "3       0171     +47 22 44 22 22                None   \n",
      "4      14700    +420 2 4172 5555    +420 2 4172 5555   \n",
      "\n",
      "                      Email  SupportRepId  \n",
      "0      luisg@embraer.com.br             3  \n",
      "1     leonekohler@surfeu.de             5  \n",
      "2       ftremblay@gmail.com             3  \n",
      "3     bjorn.hansen@yahoo.no             4  \n",
      "4  frantisekw@jetbrains.com             4   \n",
      "\n",
      "Table Employee sample data types:\n",
      "EmployeeId      int64\n",
      "LastName       object\n",
      "FirstName      object\n",
      "Title          object\n",
      "ReportsTo     float64\n",
      "BirthDate      object\n",
      "HireDate       object\n",
      "Address        object\n",
      "City           object\n",
      "State          object\n",
      "Country        object\n",
      "PostalCode     object\n",
      "Phone          object\n",
      "Fax            object\n",
      "Email          object\n",
      "dtype: object\n",
      "\n",
      "   EmployeeId LastName FirstName                Title  ReportsTo  \\\n",
      "0           1    Adams    Andrew      General Manager        NaN   \n",
      "1           2  Edwards     Nancy        Sales Manager        1.0   \n",
      "2           3  Peacock      Jane  Sales Support Agent        2.0   \n",
      "3           4     Park  Margaret  Sales Support Agent        2.0   \n",
      "4           5  Johnson     Steve  Sales Support Agent        2.0   \n",
      "\n",
      "        BirthDate         HireDate              Address      City State  \\\n",
      "0  2/18/1962 0:00   8/14/2002 0:00  11120 Jasper Ave NW  Edmonton    AB   \n",
      "1  12/8/1958 0:00    5/1/2002 0:00         825 8 Ave SW   Calgary    AB   \n",
      "2  8/29/1973 0:00    4/1/2002 0:00        1111 6 Ave SW   Calgary    AB   \n",
      "3  9/19/1947 0:00    5/3/2003 0:00     683 10 Street SW   Calgary    AB   \n",
      "4   3/3/1965 0:00  10/17/2003 0:00         7727B 41 Ave   Calgary    AB   \n",
      "\n",
      "  Country PostalCode              Phone                Fax  \\\n",
      "0  Canada    T5K 2N1  +1 (780) 428-9482  +1 (780) 428-3457   \n",
      "1  Canada    T2P 2T3  +1 (403) 262-3443  +1 (403) 262-3322   \n",
      "2  Canada    T2P 5M5  +1 (403) 262-3443  +1 (403) 262-6712   \n",
      "3  Canada    T2P 5G3  +1 (403) 263-4423  +1 (403) 263-4289   \n",
      "4  Canada    T3B 1Y7   1 (780) 836-9987   1 (780) 836-9543   \n",
      "\n",
      "                      Email  \n",
      "0    andrew@chinookcorp.com  \n",
      "1     nancy@chinookcorp.com  \n",
      "2      jane@chinookcorp.com  \n",
      "3  margaret@chinookcorp.com  \n",
      "4     steve@chinookcorp.com   \n",
      "\n"
     ]
    },
    {
     "name": "stderr",
     "output_type": "stream",
     "text": [
      "C:\\Users\\hp\\AppData\\Local\\Temp\\ipykernel_10364\\2936178059.py:18: UserWarning: pandas only supports SQLAlchemy connectable (engine/connection) or database string URI or sqlite3 DBAPI2 connection. Other DBAPI2 objects are not tested. Please consider using SQLAlchemy.\n",
      "  df = pd.read_sql(f\"SELECT TOP 5 * FROM {table}\", conn)  # Only first 5 rows\n",
      "C:\\Users\\hp\\AppData\\Local\\Temp\\ipykernel_10364\\2936178059.py:18: UserWarning: pandas only supports SQLAlchemy connectable (engine/connection) or database string URI or sqlite3 DBAPI2 connection. Other DBAPI2 objects are not tested. Please consider using SQLAlchemy.\n",
      "  df = pd.read_sql(f\"SELECT TOP 5 * FROM {table}\", conn)  # Only first 5 rows\n",
      "C:\\Users\\hp\\AppData\\Local\\Temp\\ipykernel_10364\\2936178059.py:18: UserWarning: pandas only supports SQLAlchemy connectable (engine/connection) or database string URI or sqlite3 DBAPI2 connection. Other DBAPI2 objects are not tested. Please consider using SQLAlchemy.\n",
      "  df = pd.read_sql(f\"SELECT TOP 5 * FROM {table}\", conn)  # Only first 5 rows\n",
      "C:\\Users\\hp\\AppData\\Local\\Temp\\ipykernel_10364\\2936178059.py:18: UserWarning: pandas only supports SQLAlchemy connectable (engine/connection) or database string URI or sqlite3 DBAPI2 connection. Other DBAPI2 objects are not tested. Please consider using SQLAlchemy.\n",
      "  df = pd.read_sql(f\"SELECT TOP 5 * FROM {table}\", conn)  # Only first 5 rows\n",
      "C:\\Users\\hp\\AppData\\Local\\Temp\\ipykernel_10364\\2936178059.py:18: UserWarning: pandas only supports SQLAlchemy connectable (engine/connection) or database string URI or sqlite3 DBAPI2 connection. Other DBAPI2 objects are not tested. Please consider using SQLAlchemy.\n",
      "  df = pd.read_sql(f\"SELECT TOP 5 * FROM {table}\", conn)  # Only first 5 rows\n"
     ]
    },
    {
     "name": "stdout",
     "output_type": "stream",
     "text": [
      "Table Genre sample data types:\n",
      "GenreId     int64\n",
      "Name       object\n",
      "dtype: object\n",
      "\n",
      "   GenreId                Name\n",
      "0        1                Rock\n",
      "1        2                Jazz\n",
      "2        3               Metal\n",
      "3        4  Alternative & Punk\n",
      "4        5       Rock And Roll \n",
      "\n",
      "Table Invoice sample data types:\n",
      "InvoiceId              int64\n",
      "CustomerId             int64\n",
      "InvoiceDate           object\n",
      "BillingAddress        object\n",
      "BillingCity           object\n",
      "BillingState          object\n",
      "BillingCountry        object\n",
      "BillingPostalCode     object\n",
      "Total                float64\n",
      "dtype: object\n",
      "\n",
      "   InvoiceId  CustomerId          InvoiceDate           BillingAddress  \\\n",
      "0          1           2  2009-01-01 00:00:00  Theodor-Heuss-Straße 34   \n",
      "1          2           4  2009-01-02 00:00:00         Ullevålsveien 14   \n",
      "2          3           8  2009-01-03 00:00:00          Grétrystraat 63   \n",
      "3          4          14  2009-01-06 00:00:00           8210 111 ST NW   \n",
      "4          5          23  2009-01-11 00:00:00          69 Salem Street   \n",
      "\n",
      "  BillingCity BillingState BillingCountry BillingPostalCode  Total  \n",
      "0   Stuttgart         None        Germany             70174   1.98  \n",
      "1        Oslo         None         Norway              0171   3.96  \n",
      "2    Brussels         None        Belgium              1000   5.94  \n",
      "3    Edmonton           AB         Canada           T6G 2C7   8.91  \n",
      "4      Boston           MA            USA              2113  13.86   \n",
      "\n"
     ]
    },
    {
     "name": "stderr",
     "output_type": "stream",
     "text": [
      "C:\\Users\\hp\\AppData\\Local\\Temp\\ipykernel_10364\\2936178059.py:18: UserWarning: pandas only supports SQLAlchemy connectable (engine/connection) or database string URI or sqlite3 DBAPI2 connection. Other DBAPI2 objects are not tested. Please consider using SQLAlchemy.\n",
      "  df = pd.read_sql(f\"SELECT TOP 5 * FROM {table}\", conn)  # Only first 5 rows\n",
      "C:\\Users\\hp\\AppData\\Local\\Temp\\ipykernel_10364\\2936178059.py:18: UserWarning: pandas only supports SQLAlchemy connectable (engine/connection) or database string URI or sqlite3 DBAPI2 connection. Other DBAPI2 objects are not tested. Please consider using SQLAlchemy.\n",
      "  df = pd.read_sql(f\"SELECT TOP 5 * FROM {table}\", conn)  # Only first 5 rows\n"
     ]
    },
    {
     "name": "stdout",
     "output_type": "stream",
     "text": [
      "Table InvoiceLine sample data types:\n",
      "InvoiceLineId      int64\n",
      "InvoiceId          int64\n",
      "TrackId            int64\n",
      "UnitPrice        float64\n",
      "Quantity           int64\n",
      "dtype: object\n",
      "\n",
      "   InvoiceLineId  InvoiceId  TrackId  UnitPrice  Quantity\n",
      "0              1          1        2       0.99         1\n",
      "1              2          1        4       0.99         1\n",
      "2              3          2        6       0.99         1\n",
      "3              4          2        8       0.99         1\n",
      "4              5          2       10       0.99         1 \n",
      "\n",
      "Table MediaType sample data types:\n",
      "MediaTypeId     int64\n",
      "Name           object\n",
      "dtype: object\n",
      "\n",
      "   MediaTypeId                         Name\n",
      "0            1              MPEG audio file\n",
      "1            2     Protected AAC audio file\n",
      "2            3  Protected MPEG-4 video file\n",
      "3            4     Purchased AAC audio file\n",
      "4            5               AAC audio file \n",
      "\n",
      "Table Playlist sample data types:\n",
      "PlaylistId     int64\n",
      "Name          object\n",
      "dtype: object\n",
      "\n",
      "   PlaylistId        Name\n",
      "0           1       Music\n",
      "1           2      Movies\n",
      "2           3    TV Shows\n",
      "3           4  Audiobooks\n",
      "4           5  90’s Music \n",
      "\n",
      "Table PlaylistTrack sample data types:\n",
      "PlaylistId    int64\n",
      "TrackId       int64\n",
      "dtype: object\n",
      "\n",
      "   PlaylistId  TrackId\n",
      "0           1     3402\n",
      "1           1     3389\n",
      "2           1     3390\n",
      "3           1     3391\n",
      "4           1     3392 \n",
      "\n",
      "Table Track sample data types:\n",
      "TrackId           int64\n",
      "Name             object\n",
      "AlbumId           int64\n",
      "MediaTypeId       int64\n",
      "GenreId           int64\n",
      "Composer         object\n",
      "Milliseconds      int64\n",
      "Bytes             int64\n",
      "UnitPrice       float64\n",
      "dtype: object\n",
      "\n",
      "   TrackId                                     Name  AlbumId  MediaTypeId  \\\n",
      "0        1  For Those About To Rock (We Salute You)        1            1   \n",
      "1        2                        Balls to the Wall        2            2   \n",
      "2        3                          Fast As a Shark        3            2   \n",
      "3        4                        Restless and Wild        3            2   \n",
      "4        5                     Princess of the Dawn        3            2   \n",
      "\n",
      "   GenreId                                           Composer  Milliseconds  \\\n",
      "0        1          Angus Young, Malcolm Young, Brian Johnson        343719   \n",
      "1        1                                               None        342562   \n",
      "2        1  F. Baltes, S. Kaufman, U. Dirkscneider & W. Ho...        230619   \n",
      "3        1  F. Baltes, R.A. Smith-Diesel, S. Kaufman, U. D...        252051   \n",
      "4        1                         Deaffy & R.A. Smith-Diesel        375418   \n",
      "\n",
      "      Bytes  UnitPrice  \n",
      "0  11170334       0.99  \n",
      "1   5510424       0.99  \n",
      "2   3990994       0.99  \n",
      "3   4331779       0.99  \n",
      "4   6290521       0.99   \n",
      "\n"
     ]
    },
    {
     "name": "stderr",
     "output_type": "stream",
     "text": [
      "C:\\Users\\hp\\AppData\\Local\\Temp\\ipykernel_10364\\2936178059.py:18: UserWarning: pandas only supports SQLAlchemy connectable (engine/connection) or database string URI or sqlite3 DBAPI2 connection. Other DBAPI2 objects are not tested. Please consider using SQLAlchemy.\n",
      "  df = pd.read_sql(f\"SELECT TOP 5 * FROM {table}\", conn)  # Only first 5 rows\n",
      "C:\\Users\\hp\\AppData\\Local\\Temp\\ipykernel_10364\\2936178059.py:18: UserWarning: pandas only supports SQLAlchemy connectable (engine/connection) or database string URI or sqlite3 DBAPI2 connection. Other DBAPI2 objects are not tested. Please consider using SQLAlchemy.\n",
      "  df = pd.read_sql(f\"SELECT TOP 5 * FROM {table}\", conn)  # Only first 5 rows\n",
      "C:\\Users\\hp\\AppData\\Local\\Temp\\ipykernel_10364\\2936178059.py:18: UserWarning: pandas only supports SQLAlchemy connectable (engine/connection) or database string URI or sqlite3 DBAPI2 connection. Other DBAPI2 objects are not tested. Please consider using SQLAlchemy.\n",
      "  df = pd.read_sql(f\"SELECT TOP 5 * FROM {table}\", conn)  # Only first 5 rows\n"
     ]
    }
   ],
   "source": [
    "import pyodbc\n",
    "import pandas as pd\n",
    "\n",
    "sql_server_conn_str = (\n",
    "    r\"DRIVER={ODBC Driver 17 for SQL Server};\"\n",
    "    r\"SERVER=DESKTOP-NU99729\\SQLEXPRESS;\"\n",
    "    r\"DATABASE=Chinook_db;\"\n",
    "    r\"Trusted_Connection=yes;\"\n",
    ")\n",
    "\n",
    "sql_tables = [\n",
    "    \"Album\", \"Artist\", \"Customer\", \"Employee\", \"Genre\",\n",
    "    \"Invoice\", \"InvoiceLine\", \"MediaType\", \"Playlist\", \"PlaylistTrack\", \"Track\"\n",
    "]\n",
    "\n",
    "with pyodbc.connect(sql_server_conn_str) as conn:\n",
    "    for table in sql_tables:\n",
    "        df = pd.read_sql(f\"SELECT TOP 5 * FROM {table}\", conn)  # Only first 5 rows\n",
    "        print(f\"Table {table} sample data types:\\n{df.dtypes}\\n\")\n",
    "        print(df.head(), \"\\n\")\n"
   ]
  },
  {
   "cell_type": "markdown",
   "id": "09723fe7",
   "metadata": {},
   "source": [
    "Step 2: Create Snowflake database, schema, and stage"
   ]
  },
  {
   "cell_type": "code",
   "execution_count": 1,
   "id": "245a010e",
   "metadata": {},
   "outputs": [
    {
     "name": "stdout",
     "output_type": "stream",
     "text": [
      "Processing table: Album\n"
     ]
    },
    {
     "name": "stderr",
     "output_type": "stream",
     "text": [
      "C:\\Users\\hp\\AppData\\Local\\Temp\\ipykernel_12220\\2902527467.py:95: UserWarning: pandas only supports SQLAlchemy connectable (engine/connection) or database string URI or sqlite3 DBAPI2 connection. Other DBAPI2 objects are not tested. Please consider using SQLAlchemy.\n",
      "  df = pd.read_sql(f\"SELECT * FROM {table}\", conn)\n"
     ]
    },
    {
     "name": "stdout",
     "output_type": "stream",
     "text": [
      "Table Album migrated successfully.\n",
      "Processing table: Artist\n"
     ]
    },
    {
     "name": "stderr",
     "output_type": "stream",
     "text": [
      "C:\\Users\\hp\\AppData\\Local\\Temp\\ipykernel_12220\\2902527467.py:95: UserWarning: pandas only supports SQLAlchemy connectable (engine/connection) or database string URI or sqlite3 DBAPI2 connection. Other DBAPI2 objects are not tested. Please consider using SQLAlchemy.\n",
      "  df = pd.read_sql(f\"SELECT * FROM {table}\", conn)\n"
     ]
    },
    {
     "name": "stdout",
     "output_type": "stream",
     "text": [
      "Table Artist migrated successfully.\n",
      "Processing table: Customer\n"
     ]
    },
    {
     "name": "stderr",
     "output_type": "stream",
     "text": [
      "C:\\Users\\hp\\AppData\\Local\\Temp\\ipykernel_12220\\2902527467.py:95: UserWarning: pandas only supports SQLAlchemy connectable (engine/connection) or database string URI or sqlite3 DBAPI2 connection. Other DBAPI2 objects are not tested. Please consider using SQLAlchemy.\n",
      "  df = pd.read_sql(f\"SELECT * FROM {table}\", conn)\n"
     ]
    },
    {
     "name": "stdout",
     "output_type": "stream",
     "text": [
      "Table Customer migrated successfully.\n",
      "Processing table: Employee\n"
     ]
    },
    {
     "name": "stderr",
     "output_type": "stream",
     "text": [
      "C:\\Users\\hp\\AppData\\Local\\Temp\\ipykernel_12220\\2902527467.py:95: UserWarning: pandas only supports SQLAlchemy connectable (engine/connection) or database string URI or sqlite3 DBAPI2 connection. Other DBAPI2 objects are not tested. Please consider using SQLAlchemy.\n",
      "  df = pd.read_sql(f\"SELECT * FROM {table}\", conn)\n"
     ]
    },
    {
     "name": "stdout",
     "output_type": "stream",
     "text": [
      "Table Employee migrated successfully.\n",
      "Processing table: Genre\n"
     ]
    },
    {
     "name": "stderr",
     "output_type": "stream",
     "text": [
      "C:\\Users\\hp\\AppData\\Local\\Temp\\ipykernel_12220\\2902527467.py:95: UserWarning: pandas only supports SQLAlchemy connectable (engine/connection) or database string URI or sqlite3 DBAPI2 connection. Other DBAPI2 objects are not tested. Please consider using SQLAlchemy.\n",
      "  df = pd.read_sql(f\"SELECT * FROM {table}\", conn)\n"
     ]
    },
    {
     "name": "stdout",
     "output_type": "stream",
     "text": [
      "Table Genre migrated successfully.\n",
      "Processing table: Invoice\n"
     ]
    },
    {
     "name": "stderr",
     "output_type": "stream",
     "text": [
      "C:\\Users\\hp\\AppData\\Local\\Temp\\ipykernel_12220\\2902527467.py:95: UserWarning: pandas only supports SQLAlchemy connectable (engine/connection) or database string URI or sqlite3 DBAPI2 connection. Other DBAPI2 objects are not tested. Please consider using SQLAlchemy.\n",
      "  df = pd.read_sql(f\"SELECT * FROM {table}\", conn)\n"
     ]
    },
    {
     "name": "stdout",
     "output_type": "stream",
     "text": [
      "Table Invoice migrated successfully.\n",
      "Processing table: InvoiceLine\n"
     ]
    },
    {
     "name": "stderr",
     "output_type": "stream",
     "text": [
      "C:\\Users\\hp\\AppData\\Local\\Temp\\ipykernel_12220\\2902527467.py:95: UserWarning: pandas only supports SQLAlchemy connectable (engine/connection) or database string URI or sqlite3 DBAPI2 connection. Other DBAPI2 objects are not tested. Please consider using SQLAlchemy.\n",
      "  df = pd.read_sql(f\"SELECT * FROM {table}\", conn)\n"
     ]
    },
    {
     "name": "stdout",
     "output_type": "stream",
     "text": [
      "Table InvoiceLine migrated successfully.\n",
      "Processing table: MediaType\n"
     ]
    },
    {
     "name": "stderr",
     "output_type": "stream",
     "text": [
      "C:\\Users\\hp\\AppData\\Local\\Temp\\ipykernel_12220\\2902527467.py:95: UserWarning: pandas only supports SQLAlchemy connectable (engine/connection) or database string URI or sqlite3 DBAPI2 connection. Other DBAPI2 objects are not tested. Please consider using SQLAlchemy.\n",
      "  df = pd.read_sql(f\"SELECT * FROM {table}\", conn)\n"
     ]
    },
    {
     "name": "stdout",
     "output_type": "stream",
     "text": [
      "Table MediaType migrated successfully.\n",
      "Processing table: Playlist\n"
     ]
    },
    {
     "name": "stderr",
     "output_type": "stream",
     "text": [
      "C:\\Users\\hp\\AppData\\Local\\Temp\\ipykernel_12220\\2902527467.py:95: UserWarning: pandas only supports SQLAlchemy connectable (engine/connection) or database string URI or sqlite3 DBAPI2 connection. Other DBAPI2 objects are not tested. Please consider using SQLAlchemy.\n",
      "  df = pd.read_sql(f\"SELECT * FROM {table}\", conn)\n"
     ]
    },
    {
     "name": "stdout",
     "output_type": "stream",
     "text": [
      "Table Playlist migrated successfully.\n",
      "Processing table: PlaylistTrack\n"
     ]
    },
    {
     "name": "stderr",
     "output_type": "stream",
     "text": [
      "C:\\Users\\hp\\AppData\\Local\\Temp\\ipykernel_12220\\2902527467.py:95: UserWarning: pandas only supports SQLAlchemy connectable (engine/connection) or database string URI or sqlite3 DBAPI2 connection. Other DBAPI2 objects are not tested. Please consider using SQLAlchemy.\n",
      "  df = pd.read_sql(f\"SELECT * FROM {table}\", conn)\n"
     ]
    },
    {
     "name": "stdout",
     "output_type": "stream",
     "text": [
      "Table PlaylistTrack migrated successfully.\n",
      "Processing table: Track\n"
     ]
    },
    {
     "name": "stderr",
     "output_type": "stream",
     "text": [
      "C:\\Users\\hp\\AppData\\Local\\Temp\\ipykernel_12220\\2902527467.py:95: UserWarning: pandas only supports SQLAlchemy connectable (engine/connection) or database string URI or sqlite3 DBAPI2 connection. Other DBAPI2 objects are not tested. Please consider using SQLAlchemy.\n",
      "  df = pd.read_sql(f\"SELECT * FROM {table}\", conn)\n"
     ]
    },
    {
     "name": "stdout",
     "output_type": "stream",
     "text": [
      "Table Track migrated successfully.\n"
     ]
    }
   ],
   "source": [
    "import os\n",
    "import pyodbc\n",
    "import pandas as pd\n",
    "from snowflake.snowpark import Session\n",
    "from dotenv import load_dotenv\n",
    "\n",
    "load_dotenv()\n",
    "\n",
    "sql_server_conn_str = (\n",
    "    r\"DRIVER={ODBC Driver 17 for SQL Server};\"\n",
    "    r\"SERVER=DESKTOP-NU99729\\SQLEXPRESS;\"\n",
    "    r\"DATABASE=Chinook_db;\"\n",
    "    r\"Trusted_Connection=yes;\"\n",
    ")\n",
    "\n",
    "snowflake_params = {\n",
    "    \"account\": os.getenv(\"SNOWFLAKE_ACCOUNT\"),\n",
    "    \"user\": os.getenv(\"SNOWFLAKE_USER\"),\n",
    "    \"password\": os.getenv(\"SNOWFLAKE_PASSWORD\"),\n",
    "    \"role\": os.getenv(\"SNOWFLAKE_ROLE\"),\n",
    "    \"warehouse\": os.getenv(\"SNOWFLAKE_WAREHOUSE\"),\n",
    "    \"database\": os.getenv(\"SNOWFLAKE_DATABASE\"),\n",
    "    \"schema\": os.getenv(\"SNOWFLAKE_SCHEMA\"),\n",
    "}\n",
    "\n",
    "new_database = \"CHINOOK_DATABASE\"\n",
    "new_schema = \"ERD_SCHEMA\"\n",
    "new_stage = \"DATA_INGESTION_STAGE\"\n",
    "\n",
    "# List of tables to migrate\n",
    "sql_tables = [\"Album\", \"Artist\", \"Customer\", \"Employee\", \"Genre\", \"Invoice\", \"InvoiceLine\", \"MediaType\", \"Playlist\", \"PlaylistTrack\", \"Track\"]\n",
    "\n",
    "def create_db_schema_stage(session):\n",
    "    session.sql(f\"CREATE DATABASE IF NOT EXISTS {new_database}\").collect()\n",
    "    session.sql(f\"CREATE SCHEMA IF NOT EXISTS {new_database}.{new_schema}\").collect()\n",
    "    session.sql(f\"\"\"\n",
    "        CREATE STAGE IF NOT EXISTS {new_database}.{new_schema}.{new_stage}\n",
    "        FILE_FORMAT = (TYPE = 'CSV' FIELD_OPTIONALLY_ENCLOSED_BY = '\\\"' SKIP_HEADER = 1)\n",
    "    \"\"\").collect()\n",
    "    session.use_database(new_database)\n",
    "    session.use_schema(new_schema)\n",
    "\n",
    "def map_dtype_to_snowflake(dtype):\n",
    "    # Basic dtype mapping\n",
    "    dtype_str = str(dtype).lower()\n",
    "    if 'int' in dtype_str:\n",
    "        return \"NUMBER\"\n",
    "    elif 'float' in dtype_str or 'double' in dtype_str:\n",
    "        return \"FLOAT\"\n",
    "    elif 'bool' in dtype_str:\n",
    "        return \"BOOLEAN\"\n",
    "    elif 'datetime' in dtype_str or 'timestamp' in dtype_str:\n",
    "        return \"TIMESTAMP_NTZ\"\n",
    "    else:\n",
    "        # Default fallback type\n",
    "        return \"STRING\"\n",
    "\n",
    "def create_table_from_df(session, df, table_name):\n",
    "    columns_ddl = []\n",
    "    for col, dtype in zip(df.columns, df.dtypes):\n",
    "        sf_type = map_dtype_to_snowflake(dtype)\n",
    "        # Sanitize column name for Snowflake (uppercase, no spaces)\n",
    "        col_clean = col.replace(\" \", \"_\").upper()\n",
    "        columns_ddl.append(f\"{col_clean} {sf_type}\")\n",
    "    ddl = f\"CREATE TABLE IF NOT EXISTS {table_name.upper()} ({', '.join(columns_ddl)})\"\n",
    "    session.sql(ddl).collect()\n",
    "\n",
    "def export_to_csv(df, table_name):\n",
    "    filename = f\"{table_name}.csv\"\n",
    "    df.to_csv(filename, index=False, header=True)\n",
    "    return filename\n",
    "\n",
    "def upload_and_copy(session, table_name, csv_file):\n",
    "    # PUT command to upload CSV to stage\n",
    "    put_sql = f\"PUT file://{csv_file} @{new_database}.{new_schema}.{new_stage} AUTO_COMPRESS=TRUE\"\n",
    "    session.sql(put_sql).collect()\n",
    "\n",
    "    # COPY INTO to load data into table\n",
    "    copy_sql = f\"\"\"\n",
    "        COPY INTO {table_name.upper()}\n",
    "        FROM @{new_database}.{new_schema}.{new_stage}/{csv_file}.gz\n",
    "        FILE_FORMAT = (TYPE = 'CSV' FIELD_OPTIONALLY_ENCLOSED_BY='\\\"' SKIP_HEADER=1)\n",
    "        ON_ERROR = 'CONTINUE'\n",
    "    \"\"\"\n",
    "    session.sql(copy_sql).collect()\n",
    "\n",
    "def main():\n",
    "    with pyodbc.connect(sql_server_conn_str) as conn, \\\n",
    "         Session.builder.configs(snowflake_params).create() as session:\n",
    "\n",
    "        create_db_schema_stage(session)\n",
    "\n",
    "        for table in sql_tables:\n",
    "            print(f\"Processing table: {table}\")\n",
    "            df = pd.read_sql(f\"SELECT * FROM {table}\", conn)\n",
    "\n",
    "            # Create table based on DataFrame schema\n",
    "            create_table_from_df(session, df, table)\n",
    "\n",
    "            csv_file = export_to_csv(df, table)\n",
    "            upload_and_copy(session, table, csv_file)\n",
    "\n",
    "            print(f\"Table {table} migrated successfully.\")\n",
    "\n",
    "if __name__ == \"__main__\":\n",
    "    main()\n"
   ]
  }
 ],
 "metadata": {
  "kernelspec": {
   "display_name": "snowflake",
   "language": "python",
   "name": "python3"
  },
  "language_info": {
   "codemirror_mode": {
    "name": "ipython",
    "version": 3
   },
   "file_extension": ".py",
   "mimetype": "text/x-python",
   "name": "python",
   "nbconvert_exporter": "python",
   "pygments_lexer": "ipython3",
   "version": "3.11.0"
  }
 },
 "nbformat": 4,
 "nbformat_minor": 5
}
